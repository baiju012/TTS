{
  "cells": [
    {
      "cell_type": "markdown",
      "metadata": {
        "id": "view-in-github",
        "colab_type": "text"
      },
      "source": [
        "<a href=\"https://colab.research.google.com/github/baiju012/TTS/blob/main/TTS_transformer.ipynb\" target=\"_parent\"><img src=\"https://colab.research.google.com/assets/colab-badge.svg\" alt=\"Open In Colab\"/></a>"
      ]
    },
    {
      "cell_type": "markdown",
      "metadata": {
        "id": "aCBCEgoKEOEH"
      },
      "source": [
        "1.1 Set up the Environment\n",
        "\n",
        "First, make sure you're using a GPU. In Colab, go to Runtime > Change runtime\n",
        "\n",
        "type and select GPU as the hardware accelerator.\n",
        "\n",
        "Then, install the necessary dependencies and clone the Tacotron 2 and WaveGlow repositories."
      ]
    },
    {
      "cell_type": "code",
      "execution_count": null,
      "metadata": {
        "colab": {
          "background_save": true
        },
        "id": "D2vFsn97EgIe",
        "outputId": "12017c1e-1f2f-472d-9835-4a1f7c2c5d4b"
      },
      "outputs": [
        {
          "name": "stdout",
          "output_type": "stream",
          "text": [
            "Requirement already satisfied: numpy in /usr/local/lib/python3.10/dist-packages (1.26.4)\n",
            "Requirement already satisfied: scipy in /usr/local/lib/python3.10/dist-packages (1.13.1)\n",
            "Requirement already satisfied: torch in /usr/local/lib/python3.10/dist-packages (2.4.1+cu121)\n",
            "Collecting unidecode\n",
            "  Downloading Unidecode-1.3.8-py3-none-any.whl.metadata (13 kB)\n",
            "Requirement already satisfied: librosa in /usr/local/lib/python3.10/dist-packages (0.10.2.post1)\n",
            "Requirement already satisfied: matplotlib in /usr/local/lib/python3.10/dist-packages (3.7.1)\n",
            "Requirement already satisfied: gdown in /usr/local/lib/python3.10/dist-packages (5.2.0)\n",
            "Requirement already satisfied: filelock in /usr/local/lib/python3.10/dist-packages (from torch) (3.16.1)\n",
            "Requirement already satisfied: typing-extensions>=4.8.0 in /usr/local/lib/python3.10/dist-packages (from torch) (4.12.2)\n",
            "Requirement already satisfied: sympy in /usr/local/lib/python3.10/dist-packages (from torch) (1.13.3)\n",
            "Requirement already satisfied: networkx in /usr/local/lib/python3.10/dist-packages (from torch) (3.4.1)\n",
            "Requirement already satisfied: jinja2 in /usr/local/lib/python3.10/dist-packages (from torch) (3.1.4)\n",
            "Requirement already satisfied: fsspec in /usr/local/lib/python3.10/dist-packages (from torch) (2024.6.1)\n",
            "Requirement already satisfied: audioread>=2.1.9 in /usr/local/lib/python3.10/dist-packages (from librosa) (3.0.1)\n",
            "Requirement already satisfied: scikit-learn>=0.20.0 in /usr/local/lib/python3.10/dist-packages (from librosa) (1.5.2)\n",
            "Requirement already satisfied: joblib>=0.14 in /usr/local/lib/python3.10/dist-packages (from librosa) (1.4.2)\n",
            "Requirement already satisfied: decorator>=4.3.0 in /usr/local/lib/python3.10/dist-packages (from librosa) (4.4.2)\n",
            "Requirement already satisfied: numba>=0.51.0 in /usr/local/lib/python3.10/dist-packages (from librosa) (0.60.0)\n",
            "Requirement already satisfied: soundfile>=0.12.1 in /usr/local/lib/python3.10/dist-packages (from librosa) (0.12.1)\n",
            "Requirement already satisfied: pooch>=1.1 in /usr/local/lib/python3.10/dist-packages (from librosa) (1.8.2)\n",
            "Requirement already satisfied: soxr>=0.3.2 in /usr/local/lib/python3.10/dist-packages (from librosa) (0.5.0.post1)\n",
            "Requirement already satisfied: lazy-loader>=0.1 in /usr/local/lib/python3.10/dist-packages (from librosa) (0.4)\n",
            "Requirement already satisfied: msgpack>=1.0 in /usr/local/lib/python3.10/dist-packages (from librosa) (1.1.0)\n",
            "Requirement already satisfied: contourpy>=1.0.1 in /usr/local/lib/python3.10/dist-packages (from matplotlib) (1.3.0)\n",
            "Requirement already satisfied: cycler>=0.10 in /usr/local/lib/python3.10/dist-packages (from matplotlib) (0.12.1)\n",
            "Requirement already satisfied: fonttools>=4.22.0 in /usr/local/lib/python3.10/dist-packages (from matplotlib) (4.54.1)\n",
            "Requirement already satisfied: kiwisolver>=1.0.1 in /usr/local/lib/python3.10/dist-packages (from matplotlib) (1.4.7)\n",
            "Requirement already satisfied: packaging>=20.0 in /usr/local/lib/python3.10/dist-packages (from matplotlib) (24.1)\n",
            "Requirement already satisfied: pillow>=6.2.0 in /usr/local/lib/python3.10/dist-packages (from matplotlib) (10.4.0)\n",
            "Requirement already satisfied: pyparsing>=2.3.1 in /usr/local/lib/python3.10/dist-packages (from matplotlib) (3.2.0)\n",
            "Requirement already satisfied: python-dateutil>=2.7 in /usr/local/lib/python3.10/dist-packages (from matplotlib) (2.8.2)\n",
            "Requirement already satisfied: beautifulsoup4 in /usr/local/lib/python3.10/dist-packages (from gdown) (4.12.3)\n",
            "Requirement already satisfied: requests[socks] in /usr/local/lib/python3.10/dist-packages (from gdown) (2.32.3)\n",
            "Requirement already satisfied: tqdm in /usr/local/lib/python3.10/dist-packages (from gdown) (4.66.5)\n",
            "Requirement already satisfied: llvmlite<0.44,>=0.43.0dev0 in /usr/local/lib/python3.10/dist-packages (from numba>=0.51.0->librosa) (0.43.0)\n",
            "Requirement already satisfied: platformdirs>=2.5.0 in /usr/local/lib/python3.10/dist-packages (from pooch>=1.1->librosa) (4.3.6)\n",
            "Requirement already satisfied: six>=1.5 in /usr/local/lib/python3.10/dist-packages (from python-dateutil>=2.7->matplotlib) (1.16.0)\n",
            "Requirement already satisfied: threadpoolctl>=3.1.0 in /usr/local/lib/python3.10/dist-packages (from scikit-learn>=0.20.0->librosa) (3.5.0)\n",
            "Requirement already satisfied: cffi>=1.0 in /usr/local/lib/python3.10/dist-packages (from soundfile>=0.12.1->librosa) (1.17.1)\n",
            "Requirement already satisfied: soupsieve>1.2 in /usr/local/lib/python3.10/dist-packages (from beautifulsoup4->gdown) (2.6)\n",
            "Requirement already satisfied: MarkupSafe>=2.0 in /usr/local/lib/python3.10/dist-packages (from jinja2->torch) (3.0.1)\n",
            "Requirement already satisfied: charset-normalizer<4,>=2 in /usr/local/lib/python3.10/dist-packages (from requests[socks]->gdown) (3.4.0)\n",
            "Requirement already satisfied: idna<4,>=2.5 in /usr/local/lib/python3.10/dist-packages (from requests[socks]->gdown) (3.10)\n",
            "Requirement already satisfied: urllib3<3,>=1.21.1 in /usr/local/lib/python3.10/dist-packages (from requests[socks]->gdown) (2.2.3)\n",
            "Requirement already satisfied: certifi>=2017.4.17 in /usr/local/lib/python3.10/dist-packages (from requests[socks]->gdown) (2024.8.30)\n",
            "Requirement already satisfied: PySocks!=1.5.7,>=1.5.6 in /usr/local/lib/python3.10/dist-packages (from requests[socks]->gdown) (1.7.1)\n",
            "Requirement already satisfied: mpmath<1.4,>=1.1.0 in /usr/local/lib/python3.10/dist-packages (from sympy->torch) (1.3.0)\n",
            "Requirement already satisfied: pycparser in /usr/local/lib/python3.10/dist-packages (from cffi>=1.0->soundfile>=0.12.1->librosa) (2.22)\n",
            "Downloading Unidecode-1.3.8-py3-none-any.whl (235 kB)\n",
            "\u001b[2K   \u001b[90m━━━━━━━━━━━━━━━━━━━━━━━━━━━━━━━━━━━━━━━━\u001b[0m \u001b[32m235.5/235.5 kB\u001b[0m \u001b[31m3.5 MB/s\u001b[0m eta \u001b[36m0:00:00\u001b[0m\n",
            "\u001b[?25hInstalling collected packages: unidecode\n",
            "Successfully installed unidecode-1.3.8\n"
          ]
        }
      ],
      "source": [
        "# Install required libraries\n",
        "!pip install numpy scipy torch unidecode librosa matplotlib gdown\n"
      ]
    },
    {
      "cell_type": "markdown",
      "metadata": {
        "id": "SDLmPt8dD7PA"
      },
      "source": [
        "1.2 Download Pre-trained Models\n",
        "\n",
        "You can either train the models from scratch or use pre-trained models to save time.\n",
        "\n",
        "To download pre-trained Tacotron 2 and WaveGlow models:"
      ]
    },
    {
      "cell_type": "code",
      "execution_count": null,
      "metadata": {
        "colab": {
          "base_uri": "https://localhost:8080/"
        },
        "id": "L6DxzF8XK6r3",
        "outputId": "6a99d44a-f1c1-4f52-88f8-1665a636636a"
      },
      "outputs": [
        {
          "name": "stdout",
          "output_type": "stream",
          "text": [
            "Cloning into 'tacotron2'...\n",
            "remote: Enumerating objects: 412, done.\u001b[K\n",
            "remote: Counting objects: 100% (6/6), done.\u001b[K\n",
            "remote: Compressing objects: 100% (5/5), done.\u001b[K\n",
            "remote: Total 412 (delta 2), reused 2 (delta 1), pack-reused 406 (from 1)\u001b[K\n",
            "Receiving objects: 100% (412/412), 2.70 MiB | 4.09 MiB/s, done.\n",
            "Resolving deltas: 100% (202/202), done.\n",
            "Cloning into 'waveglow'...\n",
            "remote: Enumerating objects: 196, done.\u001b[K\n",
            "remote: Counting objects: 100% (6/6), done.\u001b[K\n",
            "remote: Compressing objects: 100% (6/6), done.\u001b[K\n",
            "remote: Total 196 (delta 2), reused 2 (delta 0), pack-reused 190 (from 1)\u001b[K\n",
            "Receiving objects: 100% (196/196), 437.57 KiB | 2.21 MiB/s, done.\n",
            "Resolving deltas: 100% (108/108), done.\n"
          ]
        }
      ],
      "source": [
        "# Clone the Tacotron 2 repository\n",
        "!git clone https://github.com/NVIDIA/tacotron2.git\n",
        "\n",
        "# Clone the WaveGlow repository\n",
        "!git clone https://github.com/NVIDIA/waveglow.git\n"
      ]
    },
    {
      "cell_type": "markdown",
      "metadata": {
        "id": "CImACdwFEbtl"
      },
      "source": [
        "1.3 Install Text Processing Dependencies\n",
        "\n",
        "Tacotron 2 requires some additional preprocessing libraries:"
      ]
    },
    {
      "cell_type": "code",
      "execution_count": null,
      "metadata": {
        "colab": {
          "base_uri": "https://localhost:8080/"
        },
        "id": "5cAz92CmEKQn",
        "outputId": "6fc36fa1-9492-49c8-de7c-d39f5c2142bc"
      },
      "outputs": [
        {
          "name": "stdout",
          "output_type": "stream",
          "text": [
            "Requirement already satisfied: unidecode in /usr/local/lib/python3.10/dist-packages (1.3.8)\n"
          ]
        }
      ],
      "source": [
        "!pip install unidecode"
      ]
    },
    {
      "cell_type": "markdown",
      "metadata": {
        "id": "yEVKZ81eEgwI"
      },
      "source": [
        "1.4 Import Libraries\n",
        "\n",
        "Now, import all the necessary libraries to run Tacotron 2 and WaveGlow."
      ]
    },
    {
      "cell_type": "code",
      "execution_count": null,
      "metadata": {
        "id": "plJW9LVbFQBK"
      },
      "outputs": [],
      "source": [
        "import os\n",
        "os.chdir(\"/content/tacotron2\")"
      ]
    },
    {
      "cell_type": "markdown",
      "metadata": {
        "id": "jMrsKcXcFYbt"
      },
      "source": [
        "2. Load the Pre-trained Models\n",
        "\n",
        "You’ll need to load the downloaded Tacotron 2 and WaveGlow models into the\n",
        "\n",
        "Colab environment."
      ]
    },
    {
      "cell_type": "code",
      "execution_count": null,
      "metadata": {
        "id": "4bZbzAs_EilY"
      },
      "outputs": [],
      "source": [
        "# Load Tacotron 2 model\n",
        "tacotron2 = torch.load('tacotron2_statedict.pt')['state_dict']\n",
        "\n",
        "# Load WaveGlow model\n",
        "waveglow = torch.load('waveglow_256channels.pt')['state_dict']\n",
        "\n",
        "# Set both models to evaluation mode\n",
        "tacotron2.eval()\n",
        "waveglow.eval()\n"
      ]
    },
    {
      "cell_type": "markdown",
      "metadata": {
        "id": "PTpecImAI8zb"
      },
      "source": [
        "3. Text to Mel-Spectrogram (Tacotron 2)\n",
        "\n",
        "This function converts input text into a mel-spectrogram using Tacotron 2."
      ]
    },
    {
      "cell_type": "code",
      "execution_count": null,
      "metadata": {
        "id": "fDTVadlEFcjN"
      },
      "outputs": [],
      "source": [
        "def text_to_mel(text):\n",
        "    sequence = np.array(text_to_sequence(text, ['english_cleaners']))[None, :]\n",
        "    sequence = torch.autograd.Variable(torch.from_numpy(sequence)).cuda().long()\n",
        "\n",
        "    # Generate mel spectrogram\n",
        "    with torch.no_grad():\n",
        "        mel_outputs, mel_outputs_postnet, _, alignments = tacotron2.inference(sequence)\n",
        "\n",
        "    return mel_outputs_postnet\n"
      ]
    },
    {
      "cell_type": "markdown",
      "metadata": {
        "id": "GMeXU4UwJBQO"
      },
      "source": [
        "4. Mel-Spectrogram to Audio (WaveGlow)\n",
        "\n",
        "This function converts the mel-spectrogram into audio using WaveGlow."
      ]
    },
    {
      "cell_type": "code",
      "execution_count": null,
      "metadata": {
        "id": "9nhWYMNZI-Qi"
      },
      "outputs": [],
      "source": [
        "def mel_to_audio(mel_spectrogram):\n",
        "    with torch.no_grad():\n",
        "        audio = waveglow.infer(mel_spectrogram)\n",
        "\n",
        "    # Denoise the audio using WaveGlow's denoiser\n",
        "    denoiser = Denoiser(waveglow)\n",
        "    audio = denoiser(audio, strength=0.01)[:, 0]\n",
        "\n",
        "    return audio\n"
      ]
    },
    {
      "cell_type": "markdown",
      "metadata": {
        "id": "H10cW-6lJGq7"
      },
      "source": [
        "5. Speech Synthesis Function\n",
        "\n",
        "Now, we combine everything into one function that converts text into speech."
      ]
    },
    {
      "cell_type": "code",
      "execution_count": null,
      "metadata": {
        "id": "PcStq2w9JDob"
      },
      "outputs": [],
      "source": [
        "def synthesize_speech(text):\n",
        "    # Convert text to mel-spectrogram\n",
        "    mel_spectrogram = text_to_mel(text)\n",
        "\n",
        "    # Convert mel-spectrogram to audio waveform\n",
        "    audio = mel_to_audio(mel_spectrogram)\n",
        "\n",
        "    # Save the generated audio to a .wav file\n",
        "    audio_np = audio.cpu().numpy()\n",
        "    write(\"output.wav\", 22050, audio_np)\n",
        "\n",
        "    # Display the waveform\n",
        "    plt.figure(figsize=(10, 4))\n",
        "    librosa.display.waveshow(audio_np, sr=22050)\n",
        "    plt.title('Generated Speech Waveform')\n",
        "    plt.show()\n",
        "\n",
        "    return \"output.wav\"\n"
      ]
    },
    {
      "cell_type": "markdown",
      "metadata": {
        "id": "kZGAbOpeJOqT"
      },
      "source": [
        "6. Run the Model (Synthesize Speech)\n",
        "\n",
        "Now, you can input any text, and the model will generate the corresponding speech."
      ]
    },
    {
      "cell_type": "code",
      "execution_count": null,
      "metadata": {
        "id": "BGvaPiReJJKv"
      },
      "outputs": [],
      "source": [
        "# Input text to synthesize\n",
        "text = \"Hello! How are you doing today?\"\n",
        "\n",
        "# Generate and play the audio\n",
        "output_wav = synthesize_speech(text)\n",
        "\n",
        "# Play the audio\n",
        "import IPython.display as ipd\n",
        "ipd.Audio(output_wav)\n"
      ]
    }
  ],
  "metadata": {
    "colab": {
      "provenance": [],
      "authorship_tag": "ABX9TyOPIw2fH/ZU1HAdYlLpjdBC",
      "include_colab_link": true
    },
    "kernelspec": {
      "display_name": "Python 3",
      "name": "python3"
    },
    "language_info": {
      "name": "python"
    }
  },
  "nbformat": 4,
  "nbformat_minor": 0
}